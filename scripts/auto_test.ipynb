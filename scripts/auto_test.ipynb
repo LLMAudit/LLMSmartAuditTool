{
 "cells": [
  {
   "cell_type": "markdown",
   "metadata": {},
   "source": [
    "## 1.List all files in the folder"
   ]
  },
  {
   "cell_type": "code",
   "execution_count": 22,
   "metadata": {},
   "outputs": [
    {
     "name": "stdout",
     "output_type": "stream",
     "text": [
      "Number of files in the folder: : 43\n",
      "List all files in the folder [{'name': 'Staker.sol', 'path': './benchmark/contracts/22/contracts/contracts/Staker.sol'}, {'name': 'Migrations.sol', 'path': './benchmark/contracts/22/contracts/contracts/Migrations.sol'}, {'name': 'LongShort.sol', 'path': './benchmark/contracts/22/contracts/contracts/LongShort.sol'}, {'name': 'FloatCapital_v0.sol', 'path': './benchmark/contracts/22/contracts/contracts/FloatCapital_v0.sol'}, {'name': 'YieldManagerAave.sol', 'path': './benchmark/contracts/22/contracts/contracts/YieldManagerAave.sol'}, {'name': 'SyntheticToken.sol', 'path': './benchmark/contracts/22/contracts/contracts/SyntheticToken.sol'}, {'name': 'FloatToken.sol', 'path': './benchmark/contracts/22/contracts/contracts/FloatToken.sol'}, {'name': 'TokenFactory.sol', 'path': './benchmark/contracts/22/contracts/contracts/TokenFactory.sol'}, {'name': 'Treasury_v0.sol', 'path': './benchmark/contracts/22/contracts/contracts/Treasury_v0.sol'}, {'name': 'Dai.sol', 'path': './benchmark/contracts/22/contracts/contracts/mocks/Dai.sol'}, {'name': 'AaveIncentivesControllerMock.sol', 'path': './benchmark/contracts/22/contracts/contracts/mocks/AaveIncentivesControllerMock.sol'}, {'name': 'MockERC20.sol', 'path': './benchmark/contracts/22/contracts/contracts/mocks/MockERC20.sol'}, {'name': 'OracleManagerMock.sol', 'path': './benchmark/contracts/22/contracts/contracts/mocks/OracleManagerMock.sol'}, {'name': 'ERC20Mock.sol', 'path': './benchmark/contracts/22/contracts/contracts/mocks/ERC20Mock.sol'}, {'name': 'LendingPoolAaveMock.sol', 'path': './benchmark/contracts/22/contracts/contracts/mocks/LendingPoolAaveMock.sol'}, {'name': 'AggregatorV3Mock.sol', 'path': './benchmark/contracts/22/contracts/contracts/mocks/AggregatorV3Mock.sol'}, {'name': 'YieldManagerMock.sol', 'path': './benchmark/contracts/22/contracts/contracts/mocks/YieldManagerMock.sol'}, {'name': 'BandOracleMock.sol', 'path': './benchmark/contracts/22/contracts/contracts/mocks/BandOracleMock.sol'}, {'name': 'OracleManagerEthKillerChainlink.sol', 'path': './benchmark/contracts/22/contracts/contracts/oracles/OracleManagerEthKillerChainlink.sol'}, {'name': 'OracleManagerChainlink.sol', 'path': './benchmark/contracts/22/contracts/contracts/oracles/OracleManagerChainlink.sol'}, {'name': 'OracleManagerEthKiller.sol', 'path': './benchmark/contracts/22/contracts/contracts/oracles/OracleManagerEthKiller.sol'}, {'name': 'OracleManagerEthVsBtc.sol', 'path': './benchmark/contracts/22/contracts/contracts/oracles/OracleManagerEthVsBtc.sol'}, {'name': 'OracleManagerEthKillerChainlinkTestnet.sol', 'path': './benchmark/contracts/22/contracts/contracts/oracles/OracleManagerEthKillerChainlinkTestnet.sol'}, {'name': 'OracleManagerFlippening_V0.sol', 'path': './benchmark/contracts/22/contracts/contracts/oracles/OracleManagerFlippening_V0.sol'}, {'name': 'OracleManagerBand.sol', 'path': './benchmark/contracts/22/contracts/contracts/oracles/OracleManagerBand.sol'}, {'name': 'StakerInternalStateSetters.sol', 'path': './benchmark/contracts/22/contracts/contracts/testing/StakerInternalStateSetters.sol'}, {'name': 'LongShortInternalStateSetters.sol', 'path': './benchmark/contracts/22/contracts/contracts/testing/LongShortInternalStateSetters.sol'}, {'name': 'LongShortMockable.sol', 'path': './benchmark/contracts/22/contracts/contracts/testing/generated/LongShortMockable.sol'}, {'name': 'StakerForInternalMocking.sol', 'path': './benchmark/contracts/22/contracts/contracts/testing/generated/StakerForInternalMocking.sol'}, {'name': 'LongShortForInternalMocking.sol', 'path': './benchmark/contracts/22/contracts/contracts/testing/generated/LongShortForInternalMocking.sol'}, {'name': 'StakerMockable.sol', 'path': './benchmark/contracts/22/contracts/contracts/testing/generated/StakerMockable.sol'}, {'name': 'IYieldManager.sol', 'path': './benchmark/contracts/22/contracts/contracts/interfaces/IYieldManager.sol'}, {'name': 'IFloatToken.sol', 'path': './benchmark/contracts/22/contracts/contracts/interfaces/IFloatToken.sol'}, {'name': 'IStaker.sol', 'path': './benchmark/contracts/22/contracts/contracts/interfaces/IStaker.sol'}, {'name': 'IOracleManager.sol', 'path': './benchmark/contracts/22/contracts/contracts/interfaces/IOracleManager.sol'}, {'name': 'ITokenFactory.sol', 'path': './benchmark/contracts/22/contracts/contracts/interfaces/ITokenFactory.sol'}, {'name': 'IBandOracle.sol', 'path': './benchmark/contracts/22/contracts/contracts/interfaces/IBandOracle.sol'}, {'name': 'ISyntheticToken.sol', 'path': './benchmark/contracts/22/contracts/contracts/interfaces/ISyntheticToken.sol'}, {'name': 'ILongShort.sol', 'path': './benchmark/contracts/22/contracts/contracts/interfaces/ILongShort.sol'}, {'name': 'IAaveIncentivesController.sol', 'path': './benchmark/contracts/22/contracts/contracts/interfaces/aave/IAaveIncentivesController.sol'}, {'name': 'ILendingPool.sol', 'path': './benchmark/contracts/22/contracts/contracts/interfaces/aave/ILendingPool.sol'}, {'name': 'ILendingPoolAddressesProvider.sol', 'path': './benchmark/contracts/22/contracts/contracts/interfaces/aave/ILendingPoolAddressesProvider.sol'}, {'name': 'DataTypes.sol', 'path': './benchmark/contracts/22/contracts/contracts/interfaces/aave/DataTypes.sol'}]\n"
     ]
    }
   ],
   "source": [
    "import os\n",
    "\n",
    "folder_path = './benchmark/contracts/22'\n",
    "\n",
    "sol_files_info = []\n",
    "\n",
    "for root, dirs, files in os.walk(folder_path):\n",
    "    for file in files:\n",
    "        if file.endswith('.sol'):\n",
    "            file_path = os.path.join(root, file)\n",
    "            with open(file_path, 'r', encoding='utf-8') as f:\n",
    "                file_content = f.read()\n",
    "            sol_files_info.append({\n",
    "                'name': file,\n",
    "                'path': file_path\n",
    "            })\n",
    "print(f\"Number of files in the folder: : {len(sol_files_info)}\")\n",
    "print(f\"List all files in the folder {sol_files_info}\")\n",
    "  "
   ]
  },
  {
   "cell_type": "markdown",
   "metadata": {},
   "source": [
    "## 2. Run BA mode of LLM-SmartAudit on each project"
   ]
  },
  {
   "cell_type": "code",
   "execution_count": null,
   "metadata": {},
   "outputs": [],
   "source": [
    "import os\n",
    "import subprocess\n",
    "\n",
    "os.environ['OPENAI_API_KEY'] = ''\n",
    "\n",
    "# Specify project you want to detect\n",
    "project_file = 18\n",
    "\n",
    "# Specify the folder path\n",
    "folder_path = f'./benchmark/contracts/{project_file}'\n",
    "\n",
    "files = os.listdir(folder_path)\n",
    "\n",
    "# Function to run the command for a given file\n",
    "def run_command(file_path):\n",
    "    with open(file_path, 'r', encoding='utf-8') as f:\n",
    "        file_content = f.read()\n",
    "    \n",
    "    command = [\n",
    "        \"python\", \"run.py\",\n",
    "        \"--org\", \"RealWord\",\n",
    "        \"--config\", \"SmartContractBA\",\n",
    "        \"--task\", file_content,\n",
    "        \"--name\", f\"RealWorld_BA_{project_file}_{os.path.splitext(os.path.basename(file_path))[0]}\"\n",
    "    ]\n",
    "    \n",
    "    try:\n",
    "        result = subprocess.run(command, check=True, capture_output=True, text=True)\n",
    "        print(f\"Successfully ran {file_path}\")\n",
    "        print(result.stdout)\n",
    "    except subprocess.CalledProcessError as e:\n",
    "        print(f\"Error running {file_path}\")\n",
    "        print(e.stderr)\n",
    "\n",
    "for root, dirs, files in os.walk(folder_path):\n",
    "    for file in files:\n",
    "        if file.endswith('.sol'):\n",
    "            file_path = os.path.join(root, file)\n",
    "            print(f\"Processing {file_path}...\")\n",
    "            run_command(file_path)\n",
    "        else:\n",
    "            print(f\"Skipping {file} (not a .sol file)\")"
   ]
  },
  {
   "cell_type": "markdown",
   "metadata": {},
   "source": [
    "## 3. Run TA mode of LLM-SmartAudit on each project"
   ]
  },
  {
   "cell_type": "code",
   "execution_count": null,
   "metadata": {},
   "outputs": [],
   "source": [
    "import os\n",
    "import subprocess\n",
    "\n",
    "os.environ['OPENAI_API_KEY'] = ''\n",
    "\n",
    "# Specify project you want to detect\n",
    "project_file = 25\n",
    "\n",
    "# Specify the folder path\n",
    "folder_path = f'./benchmark/contracts/{project_file}'\n",
    "\n",
    "# List all files in the folder\n",
    "files = os.listdir(folder_path)\n",
    "\n",
    "# Function to run the command for a given file\n",
    "def run_command_TA(file_path):\n",
    "    with open(file_path, 'r', encoding='utf-8') as f:\n",
    "        file_content = f.read()\n",
    "    \n",
    "    command = [\n",
    "        \"python\", \"run.py\",\n",
    "        \"--org\", \"RealWorld\",\n",
    "        \"--config\", \"SmartContractTA\",\n",
    "        \"--task\", file_content,\n",
    "        \"--name\", f\"RealWorld_TA_{project_file}_{os.path.splitext(file)[0]}\"\n",
    "    ]\n",
    "    \n",
    "    try:\n",
    "        result = subprocess.run(command, check=True, capture_output=True, text=True)\n",
    "        print(f\"Successfully ran {file}\")\n",
    "        print(result.stdout)\n",
    "    except subprocess.CalledProcessError as e:\n",
    "        print(f\"Error running {file}\")\n",
    "        print(e.stderr)\n",
    "\n",
    "for root, dirs, files in os.walk(folder_path):\n",
    "    for file in files:\n",
    "        if file.endswith('.sol'):\n",
    "            file_path = os.path.join(root, file)\n",
    "            print(f\"Processing {file_path}...\")\n",
    "            run_command_TA(file_path)\n",
    "        else:\n",
    "            print(f\"Skipping {file} (not a .sol file)\")"
   ]
  },
  {
   "cell_type": "markdown",
   "metadata": {},
   "source": [
    "## 4. Zero-shot Prompting"
   ]
  },
  {
   "cell_type": "code",
   "execution_count": null,
   "metadata": {},
   "outputs": [],
   "source": [
    "import os\n",
    "import csv\n",
    "import openai\n",
    "\n",
    "# Set your OpenAI API key\n",
    "openai.api_key =''\n",
    "\n",
    "project_file = 'proc_arithmetic'\n",
    "\n",
    "folder_path = f'./benchmark/proc'\n",
    "\n",
    "def extract_content(file_path):\n",
    "    with open(file_path, 'r') as file:\n",
    "        content = file.read()\n",
    "    return content\n",
    "\n",
    "\n",
    "def run_command(content):\n",
    "    try:\n",
    "        # Adding the instruction before the content\n",
    "        prompt = f\"List all the vulnerabilities in the following smart contract:\\n\\n{content}\"\n",
    "        \n",
    "        response = openai.ChatCompletion.create(\n",
    "            model=\"gpt-4\",  # Use the appropriate model gpt-3.5-turbo, gpt-4o\n",
    "            messages=[\n",
    "                {\"role\": \"system\", \"content\": \"You are a helpful assistant.\"},\n",
    "                {\"role\": \"user\", \"content\": prompt}\n",
    "            ]\n",
    "        )\n",
    "        return response.choices[0].message['content'].strip()\n",
    "    except Exception as e:\n",
    "        print(f\"An error occurred: {e}\")\n",
    "        return \"Error processing the file\"\n",
    "    \n",
    "\n",
    "\n",
    "def process_files_and_save_to_csv(folder_path, csv_output_path):\n",
    "    with open(csv_output_path, 'w', newline='') as csvfile:\n",
    "        fieldnames = ['file_name', 'content', 'output']\n",
    "        writer = csv.DictWriter(csvfile, fieldnames=fieldnames)\n",
    "        writer.writeheader()\n",
    "\n",
    "        for root, dirs, files in os.walk(folder_path):\n",
    "            for file in files:\n",
    "                if file.endswith('.sol'):\n",
    "                    file_path = os.path.join(root, file)\n",
    "                    print(f\"Processing {file_path}...\")\n",
    "                    content = extract_content(file_path)\n",
    "                    output = run_command(content)\n",
    "                    # Write the file name, content, and output to the CSV\n",
    "                    writer.writerow({'file_name': file, 'content': content, 'output': output})\n",
    "                else:\n",
    "                    print(f\"Skipping {file} (not a .sol file)\")\n",
    "\n",
    "csv_output_path = './evaluation/LabeledResult/zero-shot-gpt35.csv' \n",
    "\n",
    "process_files_and_save_to_csv(folder_path, csv_output_path)"
   ]
  }
 ],
 "metadata": {
  "kernelspec": {
   "display_name": "chatdev_new",
   "language": "python",
   "name": "python3"
  },
  "language_info": {
   "codemirror_mode": {
    "name": "ipython",
    "version": 3
   },
   "file_extension": ".py",
   "mimetype": "text/x-python",
   "name": "python",
   "nbconvert_exporter": "python",
   "pygments_lexer": "ipython3",
   "version": "3.9.19"
  }
 },
 "nbformat": 4,
 "nbformat_minor": 2
}
